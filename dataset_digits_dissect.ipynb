{
  "nbformat": 4,
  "nbformat_minor": 0,
  "metadata": {
    "colab": {
      "name": "dataset digits_dissect.ipynb",
      "provenance": [],
      "collapsed_sections": [],
      "mount_file_id": "1xle3ilvEEh28WebkJ7F8_JZDZv6yodRu",
      "authorship_tag": "ABX9TyMhEEAaUtXPvvE5cRn5aFlZ",
      "include_colab_link": true
    },
    "kernelspec": {
      "name": "python3",
      "display_name": "Python 3"
    },
    "language_info": {
      "name": "python"
    }
  },
  "cells": [
    {
      "cell_type": "markdown",
      "metadata": {
        "id": "view-in-github",
        "colab_type": "text"
      },
      "source": [
        "<a href=\"https://colab.research.google.com/github/ligthhouse/digits/blob/main/dataset_digits_dissect.ipynb\" target=\"_parent\"><img src=\"https://colab.research.google.com/assets/colab-badge.svg\" alt=\"Open In Colab\"/></a>"
      ]
    },
    {
      "cell_type": "markdown",
      "metadata": {
        "id": "u375a00Do3W1"
      },
      "source": [
        "Препарирую это прекрасный датасет"
      ]
    },
    {
      "cell_type": "code",
      "metadata": {
        "id": "KifJNUcgHTzg"
      },
      "source": [
        "import numpy as np\n",
        "import pandas as pd\n",
        "from sklearn.model_selection import cross_val_score\n",
        "from sklearn import datasets\n",
        "import matplotlib.pyplot as plt"
      ],
      "execution_count": 1,
      "outputs": []
    },
    {
      "cell_type": "code",
      "metadata": {
        "id": "ird5rgfqLc3E"
      },
      "source": [
        "digits = datasets.load_digits()"
      ],
      "execution_count": 3,
      "outputs": []
    },
    {
      "cell_type": "code",
      "metadata": {
        "id": "eCUpz80kQnYK"
      },
      "source": [
        "X = digits.data\n",
        "y = digits.target"
      ],
      "execution_count": 4,
      "outputs": []
    },
    {
      "cell_type": "code",
      "metadata": {
        "colab": {
          "base_uri": "https://localhost:8080/"
        },
        "id": "5BA_XYnbQygQ",
        "outputId": "51f149b7-83f5-45a2-c7a9-3bc1b8551e70"
      },
      "source": [
        "X.shape, y.shape"
      ],
      "execution_count": 5,
      "outputs": [
        {
          "output_type": "execute_result",
          "data": {
            "text/plain": [
              "((1797, 64), (1797,))"
            ]
          },
          "metadata": {
            "tags": []
          },
          "execution_count": 5
        }
      ]
    },
    {
      "cell_type": "code",
      "metadata": {
        "colab": {
          "base_uri": "https://localhost:8080/"
        },
        "id": "uS_x09zaEgaB",
        "outputId": "50a3747f-6aee-498a-a406-cca1e3625bb3"
      },
      "source": [
        "X"
      ],
      "execution_count": 6,
      "outputs": [
        {
          "output_type": "execute_result",
          "data": {
            "text/plain": [
              "array([[ 0.,  0.,  5., ...,  0.,  0.,  0.],\n",
              "       [ 0.,  0.,  0., ..., 10.,  0.,  0.],\n",
              "       [ 0.,  0.,  0., ..., 16.,  9.,  0.],\n",
              "       ...,\n",
              "       [ 0.,  0.,  1., ...,  6.,  0.,  0.],\n",
              "       [ 0.,  0.,  2., ..., 12.,  0.,  0.],\n",
              "       [ 0.,  0., 10., ..., 12.,  1.,  0.]])"
            ]
          },
          "metadata": {
            "tags": []
          },
          "execution_count": 6
        }
      ]
    },
    {
      "cell_type": "code",
      "metadata": {
        "colab": {
          "base_uri": "https://localhost:8080/"
        },
        "id": "wbWP_zflEgWh",
        "outputId": "c3c2194c-4c79-4276-a8b9-fb3a65e05982"
      },
      "source": [
        "y"
      ],
      "execution_count": 41,
      "outputs": [
        {
          "output_type": "execute_result",
          "data": {
            "text/plain": [
              "array([0, 1, 2, ..., 8, 9, 8])"
            ]
          },
          "metadata": {
            "tags": []
          },
          "execution_count": 41
        }
      ]
    },
    {
      "cell_type": "code",
      "metadata": {
        "id": "qReVCgfPN0Qn"
      },
      "source": [
        "#функция отрисовка цифры\n",
        "def plot_digit(digit_for_plot):\n",
        "    y_series = pd.Series(y)\n",
        "    digit_index = y_series[y_series.values==digit_for_plot].index[0]\n",
        "    \n",
        "    plt.gray()\n",
        "    plt.matshow(digits.images[digit_index]);"
      ],
      "execution_count": 39,
      "outputs": []
    },
    {
      "cell_type": "code",
      "metadata": {
        "colab": {
          "base_uri": "https://localhost:8080/",
          "height": 292
        },
        "id": "KEHZOluBHgeH",
        "outputId": "31e389d1-c92e-436b-8ba3-51b556e0799a"
      },
      "source": [
        "plot_digit(8)"
      ],
      "execution_count": 42,
      "outputs": [
        {
          "output_type": "display_data",
          "data": {
            "text/plain": [
              "<Figure size 432x288 with 0 Axes>"
            ]
          },
          "metadata": {
            "tags": []
          }
        },
        {
          "output_type": "display_data",
          "data": {
            "image/png": "[encoded data removed]",
            "text/plain": [
              "<Figure size 288x288 with 1 Axes>"
            ]
          },
          "metadata": {
            "tags": [],
            "needs_background": "light"
          }
        }
      ]
    },
    {
      "cell_type": "markdown",
      "metadata": {
        "id": "CxoAdRaXPNMD"
      },
      "source": [
        "Распределение классов"
      ]
    },
    {
      "cell_type": "code",
      "metadata": {
        "colab": {
          "base_uri": "https://localhost:8080/",
          "height": 265
        },
        "id": "Z22ddg3SOswM",
        "outputId": "c499856f-01e1-44d6-b0f5-4c6d58ef9de5"
      },
      "source": [
        "y_series.hist();"
      ],
      "execution_count": 44,
      "outputs": [
        {
          "output_type": "display_data",
          "data": {
            "image/png": "[encoded data removed]",
            "text/plain": [
              "<Figure size 432x288 with 1 Axes>"
            ]
          },
          "metadata": {
            "tags": [],
            "needs_background": "light"
          }
        }
      ]
    },
    {
      "cell_type": "code",
      "metadata": {
        "colab": {
          "base_uri": "https://localhost:8080/"
        },
        "id": "ccfTRmHcO6gR",
        "outputId": "5b87f811-6fa6-460a-e906-8c3136810bce"
      },
      "source": [
        "y_series.value_counts()"
      ],
      "execution_count": 48,
      "outputs": [
        {
          "output_type": "execute_result",
          "data": {
            "text/plain": [
              "3    183\n",
              "5    182\n",
              "1    182\n",
              "6    181\n",
              "4    181\n",
              "9    180\n",
              "7    179\n",
              "0    178\n",
              "2    177\n",
              "8    174\n",
              "dtype: int64"
            ]
          },
          "metadata": {
            "tags": []
          },
          "execution_count": 48
        }
      ]
    },
    {
      "cell_type": "markdown",
      "metadata": {
        "id": "HvsOVSKwPRd3"
      },
      "source": [
        "Как работает линейная регрессия?"
      ]
    },
    {
      "cell_type": "code",
      "metadata": {
        "id": "zpnD058QPQa1"
      },
      "source": [
        "import sklearn.linear_model as lin_model\n",
        "from sklearn.model_selection import train_test_split, GridSearchCV\n",
        "import sklearn.metrics as metrics"
      ],
      "execution_count": 59,
      "outputs": []
    },
    {
      "cell_type": "code",
      "metadata": {
        "id": "543A6NbGPQXi"
      },
      "source": [
        "X_train, X_test, y_train, y_test = train_test_split(X, y, test_size=0.25, shuffle=True)"
      ],
      "execution_count": 53,
      "outputs": []
    },
    {
      "cell_type": "code",
      "metadata": {
        "id": "PFn7FM-GsFUL"
      },
      "source": [
        "def my_metric(regressor, grid, cv, scoring):\n",
        "    model = regressor\n",
        "    grid = grid\n",
        "    scoring = scoring\n",
        "    cv=cv\n",
        "    model.fit(X_train, y_train)\n",
        "    y_pred = model.predict(X_test)\n",
        "    print('Метрики с параметрами по умолчанию:', 'r2 =', metrics.r2_score(y_test, y_pred),\n",
        "          'MAE =', metrics.mean_absolute_error(y_test, y_pred))\n",
        "    \n",
        "    \n",
        "    gs = GridSearchCV(model, grid, cv=cv, scoring = scoring)\n",
        "    gs.fit(X_train, y_train)\n",
        "    y_pred_cv =gs.best_estimator_.predict(X_test)\n",
        "    print('Лучший параметр alpha = ', gs.best_params_)\n",
        "    print('Метрики с выбранным параметром:', 'r2 =', metrics.r2_score(y_test, y_pred_cv),\n",
        "          'MAE =', metrics.mean_absolute_error(y_test, y_pred_cv))"
      ],
      "execution_count": 88,
      "outputs": []
    },
    {
      "cell_type": "code",
      "metadata": {
        "colab": {
          "base_uri": "https://localhost:8080/"
        },
        "id": "EOZo2rwet5DL",
        "outputId": "749532c4-0098-458c-b580-cc665bc9ffa3"
      },
      "source": [
        "grid ={'alpha': np.linspace(0.1, 1, 10)}\n",
        "\n",
        "my_metric(lin_model.Lasso(), grid, 10, 'neg_mean_absolute_error')"
      ],
      "execution_count": 89,
      "outputs": [
        {
          "output_type": "stream",
          "text": [
            "Метрики с параметрами по умолчанию: r2 = 0.4606805135569151 MAE = 1.7122463180229708\n",
            "Лучший параметр alpha =  {'alpha': 0.1}\n",
            "Метрики с выбранным параметром: r2 = 0.563164306429282 MAE = 1.4900258496471326\n"
          ],
          "name": "stdout"
        }
      ]
    },
    {
      "cell_type": "code",
      "metadata": {
        "colab": {
          "base_uri": "https://localhost:8080/"
        },
        "id": "a47qBDWdrW0t",
        "outputId": "1f22b292-8dc6-432a-a466-e1552742de12"
      },
      "source": [
        "grid ={'alpha': np.linspace(0.01, 0.2, 10)}\n",
        "\n",
        "my_metric(lin_model.Lasso(), grid, 10, 'neg_mean_absolute_error')"
      ],
      "execution_count": 90,
      "outputs": [
        {
          "output_type": "stream",
          "text": [
            "Метрики с параметрами по умолчанию: r2 = 0.4606805135569151 MAE = 1.7122463180229708\n",
            "Лучший параметр alpha =  {'alpha': 0.01}\n",
            "Метрики с выбранным параметром: r2 = 0.5633666081835422 MAE = 1.4925137221150142\n"
          ],
          "name": "stdout"
        }
      ]
    },
    {
      "cell_type": "code",
      "metadata": {
        "id": "c5cMleAwZ9Uu"
      },
      "source": [
        ""
      ],
      "execution_count": null,
      "outputs": []
    },
    {
      "cell_type": "code",
      "metadata": {
        "id": "dVg2-cOnxYzb"
      },
      "source": [
        ""
      ],
      "execution_count": null,
      "outputs": []
    },
    {
      "cell_type": "code",
      "metadata": {
        "id": "8967BnM4xYwz"
      },
      "source": [
        ""
      ],
      "execution_count": null,
      "outputs": []
    },
    {
      "cell_type": "code",
      "metadata": {
        "id": "Snx7xrXJxYt0"
      },
      "source": [
        ""
      ],
      "execution_count": null,
      "outputs": []
    },
    {
      "cell_type": "code",
      "metadata": {
        "id": "6Zk2l6dcxYq3"
      },
      "source": [
        ""
      ],
      "execution_count": null,
      "outputs": []
    },
    {
      "cell_type": "code",
      "metadata": {
        "id": "vJwEYuLmxYnk"
      },
      "source": [
        ""
      ],
      "execution_count": null,
      "outputs": []
    }
  ]
}